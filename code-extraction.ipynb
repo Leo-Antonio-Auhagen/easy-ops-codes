{
 "cells": [
  {
   "cell_type": "markdown",
   "metadata": {},
   "source": [
    "# Prepare Dictionaries"
   ]
  },
  {
   "cell_type": "code",
   "execution_count": 23,
   "metadata": {},
   "outputs": [],
   "source": [
    "category_codes = {} # 3 letter categories\n",
    "subcategory_codes = {} # 4 letter subcategory"
   ]
  },
  {
   "cell_type": "markdown",
   "metadata": {},
   "source": [
    "# Read Files"
   ]
  },
  {
   "cell_type": "code",
   "execution_count": 24,
   "metadata": {},
   "outputs": [],
   "source": [
    "from bs4 import BeautifulSoup\n",
    "\n",
    "def read_page(num):\n",
    "    with open('./BfArM_codes/BfArM-OPSVersion2023_' + str(num) + '.html', 'r', encoding='utf-8') as file:\n",
    "        html_content = file.read()\n",
    "    \n",
    "    return BeautifulSoup(html_content, 'html.parser')"
   ]
  },
  {
   "cell_type": "markdown",
   "metadata": {},
   "source": [
    "# Extract Information"
   ]
  },
  {
   "cell_type": "code",
   "execution_count": 25,
   "metadata": {},
   "outputs": [],
   "source": [
    "def extract_high_level(page):\n",
    "    section = page.find('dl', class_='CategorieList')\n",
    "    for item in section.findAll('li'):\n",
    "        category_codes[item.find(\"a\").text] = item.find(\"a\")[\"title\"]\n",
    "\n",
    "def extract_low_level(page):\n",
    "    for item in page.findAll('h5'):\n",
    "        subcategory_codes[item.find(\"a\").text] = item.find(\"span\").text\n",
    "\n",
    "def extract_exact_low_level(page):\n",
    "    for item in page.findAll(\"div\", class_=\"Category3\"):\n",
    "        exact_code = item.find(\"a\").text\n",
    "        subcategory_codes[exact_code] = f'{subcategory_codes[str(exact_code)[0:5]]} {item.find(\"span\").text}'"
   ]
  },
  {
   "cell_type": "code",
   "execution_count": 26,
   "metadata": {},
   "outputs": [],
   "source": [
    "for i in range(0, 69):\n",
    "    page = read_page(i+1)\n",
    "    extract_high_level(page)\n",
    "    extract_low_level(page)\n",
    "    extract_exact_low_level(page)\n",
    "\n",
    "ops_codes_descriptors = {**category_codes, **subcategory_codes}"
   ]
  },
  {
   "cell_type": "markdown",
   "metadata": {},
   "source": [
    "# Save Resulting Dictionaries"
   ]
  },
  {
   "cell_type": "code",
   "execution_count": 29,
   "metadata": {},
   "outputs": [
    {
     "name": "stdout",
     "output_type": "stream",
     "text": [
      "Dictionary has been saved to ops_codes.py\n",
      "Dictionary has been saved to ops_codes.json\n"
     ]
    }
   ],
   "source": [
    "with open(\"ops_codes.py\", 'w') as file:\n",
    "    file.write(\"ops_codes = \" + \"',\\n\".join(str(ops_codes_descriptors).split(\"',\")))\n",
    "\n",
    "print(f\"Dictionary has been saved to ops_codes.py\")\n",
    "\n",
    "with open(\"ops_codes.json\", 'w') as file:\n",
    "    file.write('\"'.join(\"',\\n\".join(str(ops_codes_descriptors).split(\"',\")).split(\"'\")))\n",
    "\n",
    "print(f\"Dictionary has been saved to ops_codes.json\")"
   ]
  }
 ],
 "metadata": {
  "kernelspec": {
   "display_name": "Python 3",
   "language": "python",
   "name": "python3"
  },
  "language_info": {
   "codemirror_mode": {
    "name": "ipython",
    "version": 3
   },
   "file_extension": ".py",
   "mimetype": "text/x-python",
   "name": "python",
   "nbconvert_exporter": "python",
   "pygments_lexer": "ipython3",
   "version": "3.9.6"
  }
 },
 "nbformat": 4,
 "nbformat_minor": 2
}
